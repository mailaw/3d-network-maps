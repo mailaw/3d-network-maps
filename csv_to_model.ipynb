{
 "cells": [
  {
   "cell_type": "code",
   "execution_count": null,
   "metadata": {},
   "outputs": [],
   "source": [
    "class entity:\n",
    "    def __init__(self, primary_key, name, starting_date, ending_date):\n",
    "        self.primary_key = primary_key\n",
    "        self.name = name\n",
    "        self.starting_date = starting_date\n",
    "        self.ending_date = ending_date \n",
    "        \n",
    "        \n",
    "class relationship:\n",
    "    def __init__(self, primary_key, entity_key_1, entity_key_2,\n",
    "                 relationship_type, starting_date = None, ending_date = None):\n",
    "        \n",
    "        self.primary_key = primary_key\n",
    "        self.entity_key_1 = entity_key_1\n",
    "        self.entity_key_2 = entity_key_2\n",
    "        self.relationship_type = relationship_type"
   ]
  }
 ],
 "metadata": {
  "kernelspec": {
   "display_name": "Python 3",
   "language": "python",
   "name": "python3"
  },
  "language_info": {
   "codemirror_mode": {
    "name": "ipython",
    "version": 3
   },
   "file_extension": ".py",
   "mimetype": "text/x-python",
   "name": "python",
   "nbconvert_exporter": "python",
   "pygments_lexer": "ipython3",
   "version": "3.6.6"
  }
 },
 "nbformat": 4,
 "nbformat_minor": 2
}
