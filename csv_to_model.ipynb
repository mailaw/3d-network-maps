{
 "cells": [
  {
   "cell_type": "code",
   "execution_count": 42,
   "metadata": {},
   "outputs": [],
   "source": [
    "from dateutil import parser\n",
    "#dt=parser.parse(\"Aug 28 1999\")\n",
    "class entity:\n",
    "    def __init__(self, primary_key, name, starting_date, ending_date):\n",
    "        self.primary_key = primary_key\n",
    "        self.name = name\n",
    "        self.starting_date = starting_date\n",
    "        self.ending_date = ending_date \n",
    "        \n",
    "        \n",
    "class relationship:\n",
    "    def __init__(self, primary_key, entity_key_1, entity_key_2,\n",
    "                 relationship_type, starting_date = None, ending_date = None):\n",
    "        \n",
    "        self.primary_key = primary_key\n",
    "        self.entity_key_1 = entity_key_1\n",
    "        self.entity_key_2 = entity_key_2\n",
    "        self.relationship_type = relationship_type\n",
    "\n",
    "def readData():\n",
    "    entityList = []\n",
    "    relationshipList = []\n",
    "    \n",
    "    ##Indexes for entities csv file\n",
    "    idIndex=0\n",
    "    nameIndex=0\n",
    "    dobIndex=0\n",
    "    endIndex=0\n",
    "    \n",
    "    ##Indexes for relationships csv file\n",
    "    entityoneIndex=0\n",
    "    entitytwoIndex=0\n",
    "    relationshipIndex=0\n",
    "        \n",
    "    with open(\"mock.csv\", 'r') as f:\n",
    "        first_line=f.readline().replace('\\n','')\n",
    "        first_line=first_line.split(',')\n",
    "        idIndex=first_line.index(\"id\")\n",
    "        nameIndex=first_line.index(\"name\")\n",
    "        dobIndex=first_line.index(\"dob\")\n",
    "        endIndex=first_line.index(\"active\")\n",
    "        next(f)\n",
    "        for item in f:\n",
    "            item=item.split(',')\n",
    "            dystart=parser.parse(item[dobIndex])\n",
    "            dyend=parser.parse(item[endIndex])\n",
    "            entityList.append(entity(item[idIndex],item[nameIndex],dystart,dyend))\n",
    "            \n",
    "    with open(\"relationships.csv\",\"r\") as f:\n",
    "        first_line=f.readline().replace('\\n','')\n",
    "        first_line=first_line.split(',')\n",
    "        idIndex=first_line.index(\"id\")\n",
    "        entityoneIndex=first_line.index(\"pid_1\")\n",
    "        entitytwoIndex=first_line.index(\"pid_2\")\n",
    "        relationshipIndex=first_line.index(\"relationship\")\n",
    "        dobIndex=first_line.index(\"s_date\")\n",
    "        endIndex=first_line.index(\"end_date\")\n",
    "        next(f)\n",
    "        for item in f:\n",
    "            item=item.split(',')\n",
    "            dystart=parser.parse(item[dobIndex])\n",
    "            dyend=parser.parse(item[endIndex])\n",
    "            relationshipList.append(relationship(item[idIndex],item[entityoneIndex],item[entitytwoIndex]\n",
    "                                                ,item[relationshipIndex],item[dobIndex],item[endIndex]))\n",
    "readData()\n"
   ]
  },
  {
   "cell_type": "code",
   "execution_count": null,
   "metadata": {
    "collapsed": true
   },
   "outputs": [],
   "source": []
  }
 ],
 "metadata": {
  "kernelspec": {
   "display_name": "Python 3",
   "language": "python",
   "name": "python3"
  },
  "language_info": {
   "codemirror_mode": {
    "name": "ipython",
    "version": 3
   },
   "file_extension": ".py",
   "mimetype": "text/x-python",
   "name": "python",
   "nbconvert_exporter": "python",
   "pygments_lexer": "ipython3",
   "version": "3.6.1"
  }
 },
 "nbformat": 4,
 "nbformat_minor": 2
}
