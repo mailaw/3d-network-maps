{
 "cells": [
  {
   "cell_type": "markdown",
   "metadata": {},
   "source": [
    "# TODO\n",
    "\n",
    "* add documetation to readData()\n",
    "* maybe come up with a better way to organize the coord attributes of the Relationship object"
   ]
  },
  {
   "cell_type": "code",
   "execution_count": 1,
<<<<<<< HEAD
   "metadata": {
    "collapsed": true
   },
=======
   "metadata": {},
>>>>>>> 7c0fc8192d32ef3ff7fded33149d01ba29cfe90d
   "outputs": [],
   "source": [
    "#import igraph as ig\n",
    "import numpy as np\n",
    "from dateutil import parser\n",
    "import numpy as np\n",
    "import csv\n",
    "import os"
   ]
  },
  {
   "cell_type": "code",
   "execution_count": 2,
<<<<<<< HEAD
   "metadata": {
    "collapsed": true
   },
=======
   "metadata": {},
>>>>>>> 7c0fc8192d32ef3ff7fded33149d01ba29cfe90d
   "outputs": [],
   "source": [
    "class Entity:\n",
    "    def __init__(self, primary_key, name, starting_date, ending_date):\n",
    "        self.primary_key = primary_key\n",
    "        self.name = name\n",
    "        self.starting_date = starting_date\n",
    "        self.ending_date = ending_date \n",
    "        self.x = None\n",
    "        self.y = None\n",
    "        self.z1 = None\n",
    "        self.z2 = None\n",
    "        \n",
    "    def get_string_representation(self):\n",
    "        fields = [self.primary_key, \n",
    "                  self.name, \n",
    "                  self.starting_date, \n",
    "                  self.ending_date, \n",
    "                  self.x, \n",
    "                  self.y, \n",
    "                  self.z1, \n",
    "                  self.z2]\n",
    "        return [str(field) for field in fields]\n",
    "    \n",
    "        \n",
    "        \n",
    "class Relationship:\n",
    "    def __init__(self, primary_key, entity_key_1, entity_key_2,\n",
    "                 relationship_type, starting_date = None, ending_date = None):\n",
    "        \n",
    "        self.primary_key = primary_key\n",
    "        self.entity_key_1 = entity_key_1\n",
    "        self.entity_key_2 = entity_key_2\n",
    "        self.relationship_type = relationship_type\n",
    "        self.starting_date = starting_date\n",
    "        self.ending_date = ending_date\n",
    "        self.x1 = None\n",
    "        self.y1 = None\n",
    "        self.z1 = None\n",
    "        self.x2 = None\n",
    "        self.y2 = None\n",
    "        self.z2 = None\n",
    "        self.x3 = None\n",
    "        self.y3 = None\n",
    "        self.z3 = None\n",
    "        self.x4 = None\n",
    "        self.y4 = None\n",
    "        self.z4 = None\n",
    "    \n",
    "    def get_string_representation(self):\n",
    "        fields = [self.primary_key,\n",
    "                  self.entity_key_1,\n",
    "                  self.entity_key_2,\n",
    "                  self.relationship_type,\n",
    "                  self.starting_date,\n",
    "                  self.ending_date,\n",
    "                  self.x1,\n",
    "                  self.y1,\n",
    "                  self.z1,\n",
    "                  self.x2,\n",
    "                  self.y2,\n",
    "                  self.z2,\n",
    "                  self.x3,\n",
    "                  self.y3,\n",
    "                  self.z3,\n",
    "                  self.x4,\n",
    "                  self.y4,\n",
    "                  self.z4]\n",
    "        \n",
    "        return [str(field) for field in fields]\n",
    "        "
   ]
  },
  {
   "cell_type": "code",
   "execution_count": 3,
   "metadata": {},
   "outputs": [
    {
     "name": "stdout",
     "output_type": "stream",
     "text": [
<<<<<<< HEAD
      "<__main__.Entity object at 0x10629bb70>\n",
      "<__main__.Entity object at 0x10629bb70>\n",
      "<__main__.Entity object at 0x10629bb70>\n",
      "<__main__.Entity object at 0x10629bb70>\n",
      "<__main__.Entity object at 0x10629bb70>\n",
      "<__main__.Entity object at 0x10629bb70>\n",
      "<__main__.Entity object at 0x10629bb70>\n",
      "<__main__.Entity object at 0x10629bb70>\n",
      "<__main__.Entity object at 0x10629bb70>\n",
      "<__main__.Entity object at 0x10629bb70>\n",
      "<__main__.Entity object at 0x10629bb70>\n",
      "<__main__.Entity object at 0x10629bb70>\n",
      "<__main__.Entity object at 0x10629bb70>\n",
      "<__main__.Entity object at 0x10629bb70>\n",
      "<__main__.Entity object at 0x10629bb70>\n"
=======
      "Reading entities...\n",
      "Repeat Record ['John Call ', 'prsp-record', 'John_Call_', 'Cameron_Persons', 'John Call ', 'M ', '1759 /1814 ', '1759', '1814', '1759', 'Pittsfield; Dinwiddie; Virginia; USA ', '1814', 'Surry; North Carolina; USA ', ' ', 'http://trees.ancestry.com/pt/AMTCitationRedir.aspx?tid=112460100&pid=130 ', ' ', ' \\n']\n",
      "Record index 54\n",
      "Repeat Record ['William Alexander Kirkland ', 'prsp-record', 'William_Alexander_Kirkland_', 'Cameron_Persons', 'William Alexander Kirkland ', 'M ', '1836-07-03/1898-08-12', '1836-07-03', '1898-08-12', '3 Jul 1836 ', 'Hillsborough; Orange County; North Carolina; United States of America ', '12 Aug 1898 ', 'Mare Island; Vallejo; Solano; California; USA ', 'Annapolis; Anne Arundel County; Maryland; United States of America ', 'http://trees.ancestry.com/pt/AMTCitationRedir.aspx?tid=112460100&pid=4 ', ' ', 'http://trees.ancestry.com/rd?f=image&guid=c55992cd-951f-4e67-b98a-97d08c6a5331&tid=112460100&pid=4 \\n']\n",
      "Record index 61\n",
      "Repeat Record ['William Call ', 'prsp-record', 'William_Call_', 'Cameron_Persons', 'William Call ', 'M ', '1763-03-06/1798-05-06', '1763-03-06', '1798-05-06', '6 Mar 1763 ', 'Pittsfield; Dinwiddie; Virginia; United States ', '6 May 1798 ', 'Petersburg; Dinwiddie; Virginia; United States ', ' ', 'http://trees.ancestry.com/pt/AMTCitationRedir.aspx?tid=112460100&pid=132 ', ' ', ' \\n']\n",
      "Record index 83\n",
      "Repeat Record ['Thomas Ruffin ', 'prsp-record', 'Thomas_Ruffin_', 'Cameron_Persons', 'Thomas Ruffin ', 'M ', '1824-09-21/1889-05-23', '1824-09-21', '1889-05-23', '21 September 1824 ', 'North Carolina; United States of America ', '23 May 1889 ', ' ', 'Hillsborough; Orange County; North Carolina; United States of America ', ' ', ' ', ' \\n']\n",
      "Record index 87\n",
      "Repeat Record ['Ann Owen Cameron ', 'prsp-record', 'Ann_Owen_Cameron_', 'Cameron_Persons', 'Ann Owen Cameron ', 'F ', '1817-12-20/1840-03-22', '1817-12-20', '1840-03-22', '20 December 1817 ', ' ', '22 March 1840 ', ' ', 'Fairntosh; Durham County; North Carolina; United States of America ', 'http://trees.ancestry.com/pt/AMTCitationRedir.aspx?tid=112460100&pid=70 ', ' ', ' \\n']\n",
      "Record index 96\n",
      "Repeat Record ['William Ewan Cameron ', 'prsp-record', 'William_Ewan_Cameron_', 'Cameron_Persons', 'William Ewan Cameron ', 'M ', '1817-07-26/1893-02-08', '1817-07-26', '1893-02-08', '26 July 1817 ', 'Petersburg City; Virginia; USA ', '8 February 1893 ', 'Orange county; NC ', 'Hillsborough; Orange County; North Carolina; USA ', 'http://trees.ancestry.com/pt/AMTCitationRedir.aspx?tid=112460100&pid=13 ', ' ', ' \\n']\n",
      "Record index 101\n",
      "Repeat Record ['Richard Taliaferro ', 'prsp-record', 'Richard_Taliaferro_', 'Cameron_Persons', 'Richard Taliaferro ', 'M ', '1705 /1779-07-03', '1705', '1779-07-03', '1705', 'The Mount; Essex; Virginia; USA ', '3 Jul 1779 ', 'Williamsburg; James; Virginia; USA ', ' ', 'http://trees.ancestry.com/pt/AMTCitationRedir.aspx?tid=112460100&pid=123 ', ' ', ' \\n']\n",
      "Record index 107\n",
      "Repeat Record ['Duncan Cameron ', 'prsp-record', 'Duncan_Cameron_', 'Cameron_Persons', 'Duncan Cameron ', 'M ', '1808-10-16/1874-04-03', '1808-10-16', '1874-04-03', '16 Oct 1808 ', '; ; Inverness-Shire; Scotland ', '3 Apr 1874 ', 'Pearl Creek; Wyoming; New York; USA ', ' ', 'http://trees.ancestry.com/pt/AMTCitationRedir.aspx?tid=112460100&pid=77 ', ' ', ' \\n']\n",
      "Record index 111\n",
      "Reading relationships...\n",
      "Refers to entity not found Michael_C_Marsh_\n",
      "Record index 6\n",
      "Refers to entity not found Michael_Marsh_\n",
      "Record index 22\n",
      "Refers to entity not found Beverly_A_Randolph_\n",
      "Record index 41\n",
      "Refers to entity not found Charlotte_McGinn_Kirkland_\n",
      "Record index 47\n",
      "Refers to entity not found Dorothy_Call_\n",
      "Record index 57\n",
      "Refers to entity not found Dorothy_Call_\n",
      "Record index 61\n",
      "Refers to entity not found Elizabeth_Jaqueline_Taliaferro_\n",
      "Record index 74\n",
      "Refers to entity not found Elizabeth_Jaqueline_Taliaferro_\n",
      "Record index 75\n",
      "Refers to entity not found George_McNeill_\n",
      "Record index 81\n",
      "Refers to entity not found Elizabeth_Nelson_\n",
      "Record index 82\n",
      "Refers to entity not found Elizabeth_Nelson_\n",
      "Record index 83\n",
      "Refers to entity not found Eve_N_Call_\n",
      "Record index 84\n",
      "Refers to entity not found Eve_N_Call_\n",
      "Record index 85\n",
      "Refers to entity not found Eve_N_Call_\n",
      "Record index 86\n",
      "Refers to entity not found Estelle_Watlington_\n",
      "Record index 89\n",
      "Refers to entity not found Elizabeth_Walker_\n",
      "Record index 90\n",
      "Refers to entity not found Francis_Taliaferro_\n",
      "Record index 92\n",
      "Refers to entity not found Francis_Taliaferro_\n",
      "Record index 93\n",
      "Refers to entity not found George_Wythe_Taliaferro_\n",
      "Record index 100\n",
      "Refers to entity not found George_Wythe_Taliaferro_\n",
      "Record index 101\n",
      "Refers to entity not found Jacob_Call_\n",
      "Record index 108\n",
      "Refers to entity not found Jacob_Call_\n",
      "Record index 111\n",
      "Refers to entity not found John_Malcolm_Cameron_\n",
      "Record index 120\n",
      "Refers to entity not found John_Malcolm_Cameron_\n",
      "Record index 121\n",
      "Refers to entity not found J_W_Kirkland_\n",
      "Record index 134\n",
      "Refers to entity not found Lucy_Taliaferro_\n",
      "Record index 138\n",
      "Refers to entity not found Lucy_Taliaferro_\n",
      "Record index 139\n",
      "Refers to entity not found George_W_Mordecai_\n",
      "Record index 147\n",
      "Refers to entity not found Mary_B_Short_Cameron_\n",
      "Record index 151\n",
      "Refers to entity not found Michael_C_Marsh_\n",
      "Record index 158\n",
      "Refers to entity not found Michael_C_Marsh_\n",
      "Record index 159\n",
      "Refers to entity not found Michael_Marsh_\n",
      "Record index 163\n",
      "Refers to entity not found Michael_Marsh_\n",
      "Record index 164\n",
      "Refers to entity not found Mary_Polly_Taliaferro_\n",
      "Record index 171\n",
      "Refers to entity not found Mary_Polly_Taliaferro_\n",
      "Record index 172\n",
      "Refers to entity not found Mary_Read_Cameron_\n",
      "Record index 173\n",
      "Refers to entity not found Mary_Read_Cameron_\n",
      "Record index 176\n",
      "Refers to entity not found Rebecca_Taliaferro_\n",
      "Record index 198\n",
      "Refers to entity not found Rebecca_Taliaferro_\n",
      "Record index 200\n",
      "Refers to entity not found Rebecca_T_Cameron_\n",
      "Record index 202\n",
      "Refers to entity not found Rebecca_T_Cameron_\n",
      "Record index 203\n",
      "Refers to entity not found Richard_Taliaferro_III_\n",
      "Record index 206\n",
      "Refers to entity not found Richard_Taliaferro_III_\n",
      "Record index 207\n",
      "Refers to entity not found Sarah_Kirkland_Marsh_\n",
      "Record index 208\n",
      "Refers to entity not found Sarah_Kirkland_Marsh_\n",
      "Record index 209\n",
      "Refers to entity not found Sarah_Marsh_\n",
      "Record index 212\n",
      "Refers to entity not found Sarah_Marsh_\n",
      "Record index 213\n",
      "Refers to entity not found Sarah_Taliaferro_\n",
      "Record index 222\n",
      "Refers to entity not found Sarah_Taliaferro_\n",
      "Record index 223\n",
      "Refers to entity not found Walker_Anderson_Cameron_\n",
      "Record index 236\n",
      "Refers to entity not found Walker_Anderson_Cameron_\n",
      "Record index 237\n",
      "Refers to entity not found William_Alexander_Marsh_\n",
      "Record index 242\n",
      "Refers to entity not found William_Alexander_Marsh_\n",
      "Record index 243\n",
      "Refers to entity not found William_Alexander_Marsh_\n",
      "Record index 244\n",
      "Refers to entity not found William_Alexander_Marsh_\n",
      "Record index 245\n",
      "Refers to entity not found Elizabeth_Walker_\n",
      "Record index 251\n",
      "Refers to entity not found Walker_Anderson_Cameron_\n",
      "Record index 253\n"
>>>>>>> 7c0fc8192d32ef3ff7fded33149d01ba29cfe90d
     ]
    }
   ],
   "source": [
    "def readData(entity_csv, relationship_csv):\n",
    "    '''Parses data from entity_csv and relationship csv into python objects \n",
    "    If a record cannot be parsed, the function will print out that record.\n",
    "    If a relationship refers to an entity not found, that record will also\n",
    "    be printed. \n",
    "    \n",
    "    '''\n",
    "    entityList = []\n",
    "    relationshipList = []\n",
    "    \n",
    "    ##Indexes for entities csv file\n",
    "    idIndex=0\n",
    "    nameIndex=0\n",
    "    dobIndex=0\n",
    "    endIndex=0\n",
    "    \n",
    "    ##Indexes for relationships csv file\n",
    "    entityoneIndex=0\n",
    "    entitytwoIndex=0\n",
    "    relationshipIndex=0\n",
    "    \n",
    "    ##set of entity ids \n",
    "    entity_set = set()\n",
    "    \n",
    "    print('Reading entities...')\n",
    "        \n",
    "    with open(entity_csv, 'r') as f:\n",
    "        first_line=f.readline().replace('\\n','')\n",
    "        first_line=first_line.split(',')\n",
    "        idIndex=first_line.index(\"id\")\n",
    "        nameIndex=first_line.index(\"name\")\n",
    "        dobIndex=first_line.index(\"dob\")\n",
    "        endIndex=first_line.index(\"active\")\n",
    "        index = 1 # keeping track of row index for troubleshooting \n",
    "        for item in f:\n",
    "            index += 1\n",
    "            item=item.split(',')\n",
<<<<<<< HEAD
    "            dystart=parser.parse(item[dobIndex])\n",
    "            dyend=parser.parse(item[endIndex])\n",
    "            entityList.append(Entity(item[idIndex],item[nameIndex],dystart,dyend))\n",
    "            print(entityList[0])\n",
    "            \n",
=======
    "            try:\n",
    "                dystart=parser.parse(item[dobIndex])\n",
    "                dyend=parser.parse(item[endIndex])\n",
    "                if item[idIndex] in entity_set:\n",
    "                    print('Repeat Record', item)\n",
    "                    print('Record index', index)\n",
    "                    continue\n",
    "                else:\n",
    "                    entityList.append(Entity(item[idIndex],item[nameIndex],dystart,dyend))\n",
    "                    entity_set.add(item[idIndex])\n",
    "            except ValueError:\n",
    "                print('Record could not be parsed', item)\n",
    "                print('Record index', index)\n",
    "                continue\n",
    "    print('Reading relationships...')\n",
>>>>>>> 7c0fc8192d32ef3ff7fded33149d01ba29cfe90d
    "    with open(relationship_csv,\"r\") as f:\n",
    "        first_line=f.readline().replace('\\n','')\n",
    "        first_line=first_line.split(',')\n",
    "        idIndex=first_line.index(\"id\")\n",
    "        entityoneIndex=first_line.index(\"pid_1\")\n",
    "        entitytwoIndex=first_line.index(\"pid_2\")\n",
    "        relationshipIndex=first_line.index(\"relationship\")\n",
    "        dobIndex=first_line.index(\"s_date\")\n",
    "        endIndex=first_line.index(\"end_date\")\n",
    "        index = 1\n",
    "        for item in f:\n",
    "            index += 1\n",
    "            item=item.split(',')\n",
    "            try:\n",
    "                if len(item[dobIndex]) == 0 or item[dobIndex] == '\\n':\n",
    "                    dystart = None\n",
    "                else:\n",
    "                    dystart = parser.parse(item[dobIndex])\n",
    "                    \n",
    "                if len(item[endIndex]) == 0 or item[endIndex] == '\\n':\n",
    "                    dyend = None\n",
    "                else:\n",
    "                    dyend = parser.parse(item[endIndex])\n",
    "            \n",
    "                if item[entityoneIndex] not in entity_set:\n",
    "                    print('Refers to entity not found', item[entityoneIndex])\n",
    "                    print('Record index', index)\n",
    "                    continue\n",
    "                if item[entitytwoIndex] not in entity_set:\n",
    "                    print('Refers to entity not found', item[entitytwoIndex])\n",
    "                    print('Record index', index)\n",
    "                    continue\n",
    "                relationshipList.append(Relationship(item[idIndex],item[entityoneIndex],item[entitytwoIndex]\n",
    "                                    ,item[relationshipIndex],dystart,dyend))\n",
    "            except ValueError:\n",
    "                print('Record could not be parsed', item)\n",
    "                print('Record index', index)\n",
    "                print(len(item[dobIndex]))\n",
    "                continue\n",
    "\n",
    "    return entityList, relationshipList\n",
<<<<<<< HEAD
    "#os.chdir(\"data\");\n",
    "entity_list, relationship_list = readData(\"mock.csv\", \"relationships.csv\")"
=======
    "\n",
    "entity_list, relationship_list = readData(\"data/Cameron_Persons.csv\", \"data/Cameron_relationships.csv\")"
>>>>>>> 7c0fc8192d32ef3ff7fded33149d01ba29cfe90d
   ]
  },
  {
   "cell_type": "code",
<<<<<<< HEAD
   "execution_count": 40,
   "metadata": {
    "collapsed": true
   },
=======
   "execution_count": 4,
   "metadata": {},
>>>>>>> 7c0fc8192d32ef3ff7fded33149d01ba29cfe90d
   "outputs": [],
   "source": [
    "def primary_key_map(entity_list):\n",
    "    '''\n",
    "    Generates a mapping of the primary keys of the entities, or people, and maps it to a unique integer starting at 0\n",
    "    \n",
    "    Arguments:\n",
    "        entity_list: a list of Entity objects\n",
    "    \n",
    "    Returns:\n",
    "        primary_key_mapper: a dictionary that takes an Entity's primary key as an index\n",
    "            and returns a unique integer >= 0\n",
    "        \n",
    "        inverse_primary_key_mapper: a dictionary that takes an index and returns\n",
    "            the corresponding Entity primary key\n",
    "            \n",
    "    '''\n",
    "    primary_key_mapper = dict()\n",
    "    inverse_primary_key_mapper = dict()\n",
    "    \n",
    "    entity_primary_keys = [entity.primary_key for entity in entity_list]\n",
    "    \n",
    "    for index, primary_key in enumerate(sorted(entity_primary_keys)):\n",
    "        primary_key_mapper[primary_key] = index \n",
    "        inverse_primary_key_mapper[index] = primary_key\n",
    "    \n",
    "    return primary_key_mapper, inverse_primary_key_mapper"
   ]
  },
  {
   "cell_type": "code",
<<<<<<< HEAD
   "execution_count": 41,
   "metadata": {
    "collapsed": true
   },
=======
   "execution_count": 5,
   "metadata": {},
>>>>>>> 7c0fc8192d32ef3ff7fded33149d01ba29cfe90d
   "outputs": [],
   "source": [
    "def relationships_to_edge_list(relationship_list, primary_key_mapper):  \n",
    "    '''\n",
    "    Creates an edge list from the relationship list and a primary key map\n",
    "    \n",
    "    Arguments:\n",
    "        relationship_list: a list of Relationship objects\n",
    "        primary_key_mapper: a dictionary that maps entity primary keys to a unique integer\n",
    "    \n",
    "    Returns:\n",
    "        a list of tuples that represents an edge list\n",
    "    '''\n",
    "    return [(primary_key_mapper[relationship.entity_key_1], primary_key_mapper[relationship.entity_key_2])\n",
    "           for relationship in relationship_list]"
   ]
  },
  {
   "cell_type": "code",
<<<<<<< HEAD
   "execution_count": 42,
   "metadata": {
    "collapsed": true
   },
=======
   "execution_count": 6,
   "metadata": {},
>>>>>>> 7c0fc8192d32ef3ff7fded33149d01ba29cfe90d
   "outputs": [],
   "source": [
    "def time_span(entity_list):\n",
    "    '''\n",
    "    Gives the first date and last date found amoung the attributes of the entities \n",
    "    \n",
    "    Arguments:\n",
    "        entity_list: a list of Entity objects\n",
    "    \n",
    "    Returns: \n",
    "        the first and last date as datetime objects\n",
    "    '''\n",
    "    times = []\n",
    "    \n",
    "    for entity in entity_list:\n",
    "        times.append(entity.starting_date)\n",
    "        times.append(entity.ending_date)\n",
    "        \n",
    "\n",
    "    times = sorted(times)\n",
    "    \n",
    "    return times[0], times[-1]"
   ]
  },
  {
   "cell_type": "code",
<<<<<<< HEAD
   "execution_count": 43,
   "metadata": {
    "collapsed": true
   },
=======
   "execution_count": 7,
   "metadata": {},
>>>>>>> 7c0fc8192d32ef3ff7fded33149d01ba29cfe90d
   "outputs": [],
   "source": [
    "get_entity = dict() # a way to get an entity by its primary key\n",
    "for entity in entity_list:\n",
    "    get_entity[entity.primary_key] = entity"
   ]
  },
  {
   "cell_type": "code",
<<<<<<< HEAD
   "execution_count": 44,
   "metadata": {
    "collapsed": true
   },
=======
   "execution_count": 8,
   "metadata": {},
   "outputs": [],
   "source": [
    "#initializing network \n",
    "relationship_network = ig.Graph()\n",
    "relationship_network.add_vertices(len(entity_list))"
   ]
  },
  {
   "cell_type": "code",
   "execution_count": 9,
   "metadata": {},
>>>>>>> 7c0fc8192d32ef3ff7fded33149d01ba29cfe90d
   "outputs": [],
   "source": [
    "primary_key_mapper, inverse_primary_key_mapper = primary_key_map(entity_list) #getting key mappers\n",
    "edge_list = relationships_to_edge_list(relationship_list, primary_key_mapper) #generating edge list\n",
    "relationship_network.add_edges(edge_list) #adding edge list to graph\n",
    "starting_time, ending_time = time_span(entity_list) #getting starting and ending times \n",
    "n_day_duration = (ending_time - starting_time).days #getting duration as days "
   ]
  },
  {
   "cell_type": "code",
<<<<<<< HEAD
   "execution_count": 45,
   "metadata": {},
   "outputs": [
    {
     "ename": "NameError",
     "evalue": "name 'ig' is not defined",
     "output_type": "error",
     "traceback": [
      "\u001b[0;31m---------------------------------------------------------------------------\u001b[0m",
      "\u001b[0;31mNameError\u001b[0m                                 Traceback (most recent call last)",
      "\u001b[0;32m<ipython-input-45-cc2cab06d866>\u001b[0m in \u001b[0;36m<module>\u001b[0;34m()\u001b[0m\n\u001b[0;32m----> 1\u001b[0;31m \u001b[0mentity_xy_coords\u001b[0m \u001b[0;34m=\u001b[0m \u001b[0mnp\u001b[0m\u001b[0;34m.\u001b[0m\u001b[0marray\u001b[0m\u001b[0;34m(\u001b[0m\u001b[0mig\u001b[0m\u001b[0;34m.\u001b[0m\u001b[0mGraph\u001b[0m\u001b[0;34m(\u001b[0m\u001b[0medge_list\u001b[0m\u001b[0;34m)\u001b[0m\u001b[0;34m.\u001b[0m\u001b[0mlayout\u001b[0m\u001b[0;34m(\u001b[0m\u001b[0;34m'kk'\u001b[0m\u001b[0;34m)\u001b[0m\u001b[0;34m)\u001b[0m \u001b[0;31m# getting 2d coordiantes of entities\u001b[0m\u001b[0;34m\u001b[0m\u001b[0m\n\u001b[0m\u001b[1;32m      2\u001b[0m \u001b[0mmodel_height\u001b[0m \u001b[0;34m=\u001b[0m \u001b[0mnp\u001b[0m\u001b[0;34m.\u001b[0m\u001b[0mptp\u001b[0m\u001b[0;34m(\u001b[0m\u001b[0mentity_xy_coords\u001b[0m\u001b[0;34m,\u001b[0m \u001b[0maxis\u001b[0m \u001b[0;34m=\u001b[0m \u001b[0;36m0\u001b[0m\u001b[0;34m)\u001b[0m\u001b[0;34m.\u001b[0m\u001b[0mmax\u001b[0m\u001b[0;34m(\u001b[0m\u001b[0;34m)\u001b[0m\u001b[0;34m.\u001b[0m\u001b[0mround\u001b[0m\u001b[0;34m(\u001b[0m\u001b[0;34m)\u001b[0m \u001b[0;31m# getting a good model height\u001b[0m\u001b[0;34m\u001b[0m\u001b[0m\n",
      "\u001b[0;31mNameError\u001b[0m: name 'ig' is not defined"
     ]
    }
   ],
=======
   "execution_count": 10,
   "metadata": {},
   "outputs": [],
>>>>>>> 7c0fc8192d32ef3ff7fded33149d01ba29cfe90d
   "source": [
    "entity_xy_coords = np.array(relationship_network.layout('kk')) # getting 2d coordiantes of entities\n",
    "model_height = np.ptp(entity_xy_coords, axis = 0).max().round() # getting a good model height"
   ]
  },
  {
   "cell_type": "code",
<<<<<<< HEAD
   "execution_count": null,
   "metadata": {
    "collapsed": true
   },
=======
   "execution_count": 11,
   "metadata": {},
>>>>>>> 7c0fc8192d32ef3ff7fded33149d01ba29cfe90d
   "outputs": [],
   "source": [
    "# setting the geometry of each entity\n",
    "for index, coord in enumerate(entity_xy_coords):\n",
    "    entity_primary_key = inverse_primary_key_mapper[index]\n",
    "    entity = get_entity[entity_primary_key]\n",
    "    entity.x = coord[0]\n",
    "    entity.y = coord[1]\n",
    "    entity.z1 = (entity.starting_date - starting_time).days/n_day_duration * model_height\n",
    "    entity.z2 = (entity.ending_date - starting_time).days/n_day_duration * model_height"
   ]
  },
  {
   "cell_type": "code",
<<<<<<< HEAD
   "execution_count": null,
   "metadata": {
    "collapsed": true
   },
=======
   "execution_count": 12,
   "metadata": {},
>>>>>>> 7c0fc8192d32ef3ff7fded33149d01ba29cfe90d
   "outputs": [],
   "source": [
    "# setting the geometry of each relationship\n",
    "for relationship in relationship_list:\n",
    "    entity_1 = get_entity[relationship.entity_key_1]\n",
    "    entity_2 = get_entity[relationship.entity_key_2]\n",
    "    \n",
    "    relationship.x1 = entity_1.x\n",
    "    relationship.y1 = entity_1.y\n",
    "    \n",
    "    relationship.x2 = entity_1.x\n",
    "    relationship.y2 = entity_1.y\n",
    "    \n",
    "    relationship.x3 = entity_2.x\n",
    "    relationship.y3 = entity_2.y\n",
    "    \n",
    "    relationship.x4 = entity_2.x\n",
    "    relationship.y4 = entity_2.y\n",
    "    \n",
    "    \n",
    "    if relationship.starting_date is None and relationship.ending_date is None: # if relationship exists during full life of both entities\n",
    "        relationship.z1 = min(entity_1.z1, entity_2.z1)\n",
    "        relationship.z3 = relationship.z1\n",
    "\n",
    "        relationship.z2 = entity_1.z2\n",
    "        relationship.z4 = entity_2.z2\n",
    "        \n",
    "    else:\n",
    "        bottom_z = (relationship.starting_date - starting_time).days/n_day_duration * model_height\n",
    "        top_z = (relationship.ending_date - starting_time).days/n_day_duration * model_height\n",
    "        \n",
    "        relationship.z1 = bottom_z\n",
    "        relationship.z3 = bottom_z\n",
    "        \n",
    "        relationship.z2 = top_z\n",
    "        relationship.z4 = top_z"
   ]
  },
  {
   "cell_type": "code",
<<<<<<< HEAD
   "execution_count": null,
   "metadata": {
    "collapsed": true
   },
=======
   "execution_count": 13,
   "metadata": {},
>>>>>>> 7c0fc8192d32ef3ff7fded33149d01ba29cfe90d
   "outputs": [],
   "source": [
    "def write_entities(entity_list, csv_name):\n",
    "    with open(csv_name + '.csv', mode = 'w', newline = '') as entity_file:\n",
    "        entity_writer = csv.writer(entity_file)\n",
    "        entity_writer.writerow(['primary_key','name','starting_date','ending_date','x','y','z1','z2'])\n",
    "        for entity in entity_list:\n",
    "            entity_writer.writerow(entity.get_string_representation())"
   ]
  },
  {
   "cell_type": "code",
<<<<<<< HEAD
   "execution_count": null,
   "metadata": {
    "collapsed": true
   },
=======
   "execution_count": 14,
   "metadata": {},
>>>>>>> 7c0fc8192d32ef3ff7fded33149d01ba29cfe90d
   "outputs": [],
   "source": [
    "def write_relationships(relationship_list, csv_name):\n",
    "    with open(csv_name + '.csv', mode = 'w', newline = '') as relationship_file:\n",
    "        relationship_writer = csv.writer(relationship_file)\n",
    "        relationship_writer.writerow(['primary_key',\n",
    "                                      'entity_key_1',\n",
    "                                      'entity_key_2',\n",
    "                                      'relationship_type',\n",
    "                                      'starting_date',\n",
    "                                      'ending_date',\n",
    "                                      'x1',\n",
    "                                      'y1',\n",
    "                                      'z1',\n",
    "                                      'x2',\n",
    "                                      'y2',\n",
    "                                      'z2',\n",
    "                                      'x3',\n",
    "                                      'y3',\n",
    "                                      'z3',\n",
    "                                      'x4',\n",
    "                                      'y4',\n",
    "                                      'z4'])\n",
    "\n",
    "        for relationship in relationship_list:\n",
    "            relationship_writer.writerow(relationship.get_string_representation())"
   ]
  },
  {
   "cell_type": "code",
<<<<<<< HEAD
   "execution_count": null,
   "metadata": {
    "collapsed": true
   },
=======
   "execution_count": 15,
   "metadata": {},
>>>>>>> 7c0fc8192d32ef3ff7fded33149d01ba29cfe90d
   "outputs": [],
   "source": [
    "write_entities(entity_list, 'data/cameron_entity_output')\n",
    "write_relationships(relationship_list, 'data/cameron_relationship_output')"
   ]
  },
  {
   "cell_type": "code",
   "execution_count": null,
   "metadata": {},
   "outputs": [],
   "source": []
  }
 ],
 "metadata": {
  "kernelspec": {
   "display_name": "Python 3",
   "language": "python",
   "name": "python3"
  },
  "language_info": {
   "codemirror_mode": {
    "name": "ipython",
    "version": 3
   },
   "file_extension": ".py",
   "mimetype": "text/x-python",
   "name": "python",
   "nbconvert_exporter": "python",
   "pygments_lexer": "ipython3",
   "version": "3.6.6"
  }
 },
 "nbformat": 4,
 "nbformat_minor": 2
}
