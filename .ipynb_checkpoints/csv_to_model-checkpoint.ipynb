{
 "cells": [
  {
   "cell_type": "markdown",
   "metadata": {},
   "source": [
    "# TODO\n",
    "\n",
    "* add documetation to readData()\n",
    "* maybe come up with a better way to organize the coord attributes of the Relationship object"
   ]
  },
  {
   "cell_type": "code",
<<<<<<< HEAD
   "execution_count": 4,
   "metadata": {
    "collapsed": true
   },
=======
   "execution_count": 6,
   "metadata": {},
>>>>>>> 7c0fc8192d32ef3ff7fded33149d01ba29cfe90d
   "outputs": [],
   "source": [
    "#import igraph as ig\n",
    "import numpy as np\n",
    "from dateutil import parser\n",
    "import numpy as np\n",
<<<<<<< HEAD
    "import csv\n",
    "import os"
=======
    "import csv"
>>>>>>> 7c0fc8192d32ef3ff7fded33149d01ba29cfe90d
   ]
  },
  {
   "cell_type": "code",
<<<<<<< HEAD
   "execution_count": 5,
   "metadata": {
    "collapsed": true
   },
=======
   "execution_count": 7,
   "metadata": {},
>>>>>>> 7c0fc8192d32ef3ff7fded33149d01ba29cfe90d
   "outputs": [],
   "source": [
    "class Entity:\n",
    "    def __init__(self, primary_key, name, starting_date, ending_date):\n",
    "        self.primary_key = primary_key\n",
    "        self.name = name\n",
    "        self.starting_date = starting_date\n",
    "        self.ending_date = ending_date \n",
    "        self.x = None\n",
    "        self.y = None\n",
    "        self.z1 = None\n",
    "        self.z2 = None\n",
    "        \n",
    "    def get_string_representation(self):\n",
    "        fields = [self.primary_key, \n",
    "                  self.name, \n",
    "                  self.starting_date, \n",
    "                  self.ending_date, \n",
    "                  self.x, \n",
    "                  self.y, \n",
    "                  self.z1, \n",
    "                  self.z2]\n",
    "        return [str(field) for field in fields]\n",
    "    \n",
    "        \n",
    "        \n",
    "class Relationship:\n",
    "    def __init__(self, primary_key, entity_key_1, entity_key_2,\n",
    "                 relationship_type, starting_date = None, ending_date = None):\n",
    "        \n",
    "        self.primary_key = primary_key\n",
    "        self.entity_key_1 = entity_key_1\n",
    "        self.entity_key_2 = entity_key_2\n",
    "        self.relationship_type = relationship_type\n",
    "        self.starting_date = starting_date\n",
    "        self.ending_date = ending_date\n",
    "        self.x1 = None\n",
    "        self.y1 = None\n",
    "        self.z1 = None\n",
    "        self.x2 = None\n",
    "        self.y2 = None\n",
    "        self.z2 = None\n",
    "        self.x3 = None\n",
    "        self.y3 = None\n",
    "        self.z3 = None\n",
    "        self.x4 = None\n",
    "        self.y4 = None\n",
    "        self.z4 = None\n",
    "    \n",
    "    def get_string_representation(self):\n",
    "        fields = [self.primary_key,\n",
    "                  self.entity_key_1,\n",
    "                  self.entity_key_2,\n",
    "                  self.relationship_type,\n",
    "                  self.starting_date,\n",
    "                  self.ending_date,\n",
    "                  self.x1,\n",
    "                  self.y1,\n",
    "                  self.z1,\n",
    "                  self.x2,\n",
    "                  self.y2,\n",
    "                  self.z2,\n",
    "                  self.x3,\n",
    "                  self.y3,\n",
    "                  self.z3,\n",
    "                  self.x4,\n",
    "                  self.y4,\n",
    "                  self.z4]\n",
    "        \n",
    "        return [str(field) for field in fields]\n",
    "        "
   ]
  },
  {
   "cell_type": "code",
<<<<<<< HEAD
   "execution_count": 6,
=======
   "execution_count": 37,
>>>>>>> 7c0fc8192d32ef3ff7fded33149d01ba29cfe90d
   "metadata": {},
   "outputs": [
    {
     "name": "stdout",
     "output_type": "stream",
     "text": [
<<<<<<< HEAD
      "1990\n",
      "1995\n",
      "1975\n",
      "1968\n",
      "1949\n",
      "1955\n",
      "1965\n",
      "1970\n",
      "1972\n",
      "1999\n",
      "1983\n",
      "1995\n",
      "1960\n",
      "1977\n",
      "1960\n"
     ]
    },
    {
     "ename": "FileNotFoundError",
     "evalue": "[Errno 2] No such file or directory: 'relationships.csv'",
     "output_type": "error",
     "traceback": [
      "\u001b[0;31m---------------------------------------------------------------------------\u001b[0m",
      "\u001b[0;31mFileNotFoundError\u001b[0m                         Traceback (most recent call last)",
      "\u001b[0;32m<ipython-input-6-92103d12ef20>\u001b[0m in \u001b[0;36m<module>\u001b[0;34m()\u001b[0m\n\u001b[1;32m     45\u001b[0m     \u001b[0;32mreturn\u001b[0m \u001b[0mentityList\u001b[0m\u001b[0;34m,\u001b[0m \u001b[0mrelationshipList\u001b[0m\u001b[0;34m\u001b[0m\u001b[0m\n\u001b[1;32m     46\u001b[0m \u001b[0;31m#os.chdir(\"data\");\u001b[0m\u001b[0;34m\u001b[0m\u001b[0;34m\u001b[0m\u001b[0m\n\u001b[0;32m---> 47\u001b[0;31m \u001b[0mentity_list\u001b[0m\u001b[0;34m,\u001b[0m \u001b[0mrelationship_list\u001b[0m \u001b[0;34m=\u001b[0m \u001b[0mreadData\u001b[0m\u001b[0;34m(\u001b[0m\u001b[0;34m\"mock.csv\"\u001b[0m\u001b[0;34m,\u001b[0m \u001b[0;34m\"relationships.csv\"\u001b[0m\u001b[0;34m)\u001b[0m\u001b[0;34m\u001b[0m\u001b[0m\n\u001b[0m",
      "\u001b[0;32m<ipython-input-6-92103d12ef20>\u001b[0m in \u001b[0;36mreadData\u001b[0;34m(entity_csv, relationship_csv)\u001b[0m\n\u001b[1;32m     28\u001b[0m             \u001b[0mentityList\u001b[0m\u001b[0;34m.\u001b[0m\u001b[0mappend\u001b[0m\u001b[0;34m(\u001b[0m\u001b[0mEntity\u001b[0m\u001b[0;34m(\u001b[0m\u001b[0mitem\u001b[0m\u001b[0;34m[\u001b[0m\u001b[0midIndex\u001b[0m\u001b[0;34m]\u001b[0m\u001b[0;34m,\u001b[0m\u001b[0mitem\u001b[0m\u001b[0;34m[\u001b[0m\u001b[0mnameIndex\u001b[0m\u001b[0;34m]\u001b[0m\u001b[0;34m,\u001b[0m\u001b[0mdystart\u001b[0m\u001b[0;34m,\u001b[0m\u001b[0mdyend\u001b[0m\u001b[0;34m)\u001b[0m\u001b[0;34m)\u001b[0m\u001b[0;34m\u001b[0m\u001b[0m\n\u001b[1;32m     29\u001b[0m \u001b[0;34m\u001b[0m\u001b[0m\n\u001b[0;32m---> 30\u001b[0;31m     \u001b[0;32mwith\u001b[0m \u001b[0mopen\u001b[0m\u001b[0;34m(\u001b[0m\u001b[0mrelationship_csv\u001b[0m\u001b[0;34m,\u001b[0m\u001b[0;34m\"r\"\u001b[0m\u001b[0;34m)\u001b[0m \u001b[0;32mas\u001b[0m \u001b[0mf\u001b[0m\u001b[0;34m:\u001b[0m\u001b[0;34m\u001b[0m\u001b[0m\n\u001b[0m\u001b[1;32m     31\u001b[0m         \u001b[0mfirst_line\u001b[0m\u001b[0;34m=\u001b[0m\u001b[0mf\u001b[0m\u001b[0;34m.\u001b[0m\u001b[0mreadline\u001b[0m\u001b[0;34m(\u001b[0m\u001b[0;34m)\u001b[0m\u001b[0;34m.\u001b[0m\u001b[0mreplace\u001b[0m\u001b[0;34m(\u001b[0m\u001b[0;34m'\\n'\u001b[0m\u001b[0;34m,\u001b[0m\u001b[0;34m''\u001b[0m\u001b[0;34m)\u001b[0m\u001b[0;34m\u001b[0m\u001b[0m\n\u001b[1;32m     32\u001b[0m         \u001b[0mfirst_line\u001b[0m\u001b[0;34m=\u001b[0m\u001b[0mfirst_line\u001b[0m\u001b[0;34m.\u001b[0m\u001b[0msplit\u001b[0m\u001b[0;34m(\u001b[0m\u001b[0;34m','\u001b[0m\u001b[0;34m)\u001b[0m\u001b[0;34m\u001b[0m\u001b[0m\n",
      "\u001b[0;31mFileNotFoundError\u001b[0m: [Errno 2] No such file or directory: 'relationships.csv'"
=======
      "['Alexandra A Kirkland -Marries- Michael C Marsh ', 'prsp-record', 'AAK_MARRIES_MCM', 'Cameron_QR', 'Alexandra A Kirkland ', 'Michael C Marsh ', 'Alexandra_A_Kirkland_', 'Michael_C_Marsh_', 'Wife', 'Husband', 'Marriage', '2/16/1975', '1976\\n']\n",
      "['Beverly A Randolph -Marries- Michael C Marsh ', 'prsp-record', 'BAR_MARRIES_MCM', 'Cameron_QR', 'Beverly A Randolph ', 'Michael C Marsh ', 'Beverly_A_Randolph_', 'Michael_C_Marsh_', 'Wife', 'Husband', 'Marriage', '10/8/1966', '1/1/1975\\n']\n",
      "['Charlotte McGinn Kirkland -Marries- Robert Gowland Kirkland ', 'prsp-record', 'CMGK_MARRIES_RGK', 'Cameron_QR', 'Charlotte McGinn Kirkland ', 'Robert Gowland Kirkland ', 'Charlotte_McGinn_Kirkland_', 'Robert_Gowland_Kirkland_', 'Wife', 'Husband', 'Marriage', '4/23/1900', '1915\\n']\n",
      "['Mary B Short Cameron -Marries- Robert Strange Kirkland ', 'prsp-record', 'MBSC_MARRIES_RSK', 'Cameron_QR', 'Mary B Short Cameron ', 'Robert Strange Kirkland ', 'Mary_B_Short_Cameron_', 'Robert_Strange_Kirkland_', 'Wife', 'Husband', 'Marriage', '1896-06-06', '1899\\n']\n"
>>>>>>> 7c0fc8192d32ef3ff7fded33149d01ba29cfe90d
     ]
    }
   ],
   "source": [
    "def readData(entity_csv, relationship_csv):\n",
    "    '''Parses data from entity_csv and relationship csv into python objects \n",
    "    If a record cannot be parsed, the function will print out that record.\n",
    "    If a relationship refers to an entity not found, that record will also\n",
    "    be printed. \n",
    "    \n",
    "    '''\n",
    "    entityList = []\n",
    "    relationshipList = []\n",
    "    \n",
    "    ##Indexes for entities csv file\n",
    "    idIndex=0\n",
    "    nameIndex=0\n",
    "    dobIndex=0\n",
    "    endIndex=0\n",
    "    \n",
    "    ##Indexes for relationships csv file\n",
    "    entityoneIndex=0\n",
    "    entitytwoIndex=0\n",
    "    relationshipIndex=0\n",
    "    \n",
    "    ##set of entity ids \n",
    "    entity_set = set()\n",
    "        \n",
    "    with open(entity_csv, 'r') as f:\n",
    "        first_line=f.readline().replace('\\n','')\n",
    "        first_line=first_line.split(',')\n",
    "        idIndex=first_line.index(\"id\")\n",
    "        nameIndex=first_line.index(\"name\")\n",
    "        dobIndex=first_line.index(\"dob\")\n",
    "        endIndex=first_line.index(\"active\")\n",
    "        for item in f:\n",
    "            item=item.split(',')\n",
<<<<<<< HEAD
    "            dystart=parser.parse(item[dobIndex])\n",
    "            dyend=parser.parse(item[endIndex])\n",
    "            print(dystart, dyend)\n",
    "            entityList.append(Entity(item[idIndex],item[nameIndex],dystart,dyend))\n",
=======
    "            try:\n",
    "                dystart=parser.parse(item[dobIndex])\n",
    "                dyend=parser.parse(item[endIndex])\n",
    "                entityList.append(Entity(item[idIndex],item[nameIndex],dystart,dyend))\n",
    "                entity_set.add(item[idIndex])\n",
    "            except ValueError:\n",
    "                print(item)\n",
    "                continue\n",
>>>>>>> 7c0fc8192d32ef3ff7fded33149d01ba29cfe90d
    "            \n",
    "    with open(relationship_csv,\"r\") as f:\n",
    "        first_line=f.readline().replace('\\n','')\n",
    "        first_line=first_line.split(',')\n",
    "        idIndex=first_line.index(\"id\")\n",
    "        entityoneIndex=first_line.index(\"pid_1\")\n",
    "        entitytwoIndex=first_line.index(\"pid_2\")\n",
    "        relationshipIndex=first_line.index(\"relationship\")\n",
    "        dobIndex=first_line.index(\"s_date\")\n",
    "        endIndex=first_line.index(\"end_date\")\n",
    "        for item in f:\n",
    "            item=item.split(',')\n",
    "            try:\n",
    "                dystart=parser.parse(item[dobIndex])\n",
    "                dyend=parser.parse(item[endIndex])\n",
    "                if item[entityoneIndex] not in entity_set or item[entitytwoIndex] not in entity_set:\n",
    "                    print(item)\n",
    "                    continue\n",
    "                relationshipList.append(Relationship(item[idIndex],item[entityoneIndex],item[entitytwoIndex]\n",
    "                                    ,item[relationshipIndex],dystart,dyend))\n",
    "            except ValueError:\n",
    "                continue\n",
    "\n",
    "    return entityList, relationshipList\n",
<<<<<<< HEAD
    "#os.chdir(\"data\");\n",
    "entity_list, relationship_list = readData(\"mock.csv\", \"relationships.csv\")"
=======
    "\n",
    "entity_list, relationship_list = readData(\"data/Cameron_Persons.csv\", \"data/Cameron_relationships.csv\")"
>>>>>>> 7c0fc8192d32ef3ff7fded33149d01ba29cfe90d
   ]
  },
  {
   "cell_type": "code",
<<<<<<< HEAD
   "execution_count": 40,
   "metadata": {
    "collapsed": true
   },
=======
   "execution_count": 38,
   "metadata": {},
>>>>>>> 7c0fc8192d32ef3ff7fded33149d01ba29cfe90d
   "outputs": [],
   "source": [
    "def primary_key_map(entity_list):\n",
    "    '''\n",
    "    Generates a mapping of the primary keys of the entities, or people, and maps it to a unique integer starting at 0\n",
    "    \n",
    "    Arguments:\n",
    "        entity_list: a list of Entity objects\n",
    "    \n",
    "    Returns:\n",
    "        primary_key_mapper: a dictionary that takes an Entity's primary key as an index\n",
    "            and returns a unique integer >= 0\n",
    "        \n",
    "        inverse_primary_key_mapper: a dictionary that takes an index and returns\n",
    "            the corresponding Entity primary key\n",
    "            \n",
    "    '''\n",
    "    primary_key_mapper = dict()\n",
    "    inverse_primary_key_mapper = dict()\n",
    "    \n",
    "    entity_primary_keys = [entity.primary_key for entity in entity_list]\n",
    "    \n",
    "    for index, primary_key in enumerate(sorted(entity_primary_keys)):\n",
    "        primary_key_mapper[primary_key] = index \n",
    "        inverse_primary_key_mapper[index] = primary_key\n",
    "    \n",
    "    return primary_key_mapper, inverse_primary_key_mapper"
   ]
  },
  {
   "cell_type": "code",
<<<<<<< HEAD
   "execution_count": 41,
   "metadata": {
    "collapsed": true
   },
=======
   "execution_count": 27,
   "metadata": {},
>>>>>>> 7c0fc8192d32ef3ff7fded33149d01ba29cfe90d
   "outputs": [],
   "source": [
    "def relationships_to_edge_list(relationship_list, primary_key_mapper):  \n",
    "    '''\n",
    "    Creates an edge list from the relationship list and a primary key map\n",
    "    \n",
    "    Arguments:\n",
    "        relationship_list: a list of Relationship objects\n",
    "        primary_key_mapper: a dictionary that maps entity primary keys to a unique integer\n",
    "    \n",
    "    Returns:\n",
    "        a list of tuples that represents an edge list\n",
    "    '''\n",
    "    return [(primary_key_mapper[relationship.entity_key_1], primary_key_mapper[relationship.entity_key_2])\n",
    "           for relationship in relationship_list]"
   ]
  },
  {
   "cell_type": "code",
<<<<<<< HEAD
   "execution_count": 42,
   "metadata": {
    "collapsed": true
   },
=======
   "execution_count": 28,
   "metadata": {},
>>>>>>> 7c0fc8192d32ef3ff7fded33149d01ba29cfe90d
   "outputs": [],
   "source": [
    "def time_span(entity_list):\n",
    "    '''\n",
    "    Gives the first date and last date found amoung the attributes of the entities \n",
    "    \n",
    "    Arguments:\n",
    "        entity_list: a list of Entity objects\n",
    "    \n",
    "    Returns: \n",
    "        the first and last date as datetime objects\n",
    "    '''\n",
    "    times = []\n",
    "    \n",
    "    for entity in entity_list:\n",
    "        times.append(entity.starting_date)\n",
    "        times.append(entity.ending_date)\n",
    "        \n",
    "\n",
    "    times = sorted(times)\n",
    "    \n",
    "    return times[0], times[-1]"
   ]
  },
  {
   "cell_type": "code",
<<<<<<< HEAD
   "execution_count": 43,
   "metadata": {
    "collapsed": true
   },
=======
   "execution_count": 29,
   "metadata": {},
>>>>>>> 7c0fc8192d32ef3ff7fded33149d01ba29cfe90d
   "outputs": [],
   "source": [
    "get_entity = dict() # a way to get an entity by its primary key\n",
    "for entity in entity_list:\n",
    "    get_entity[entity.primary_key] = entity"
   ]
  },
  {
   "cell_type": "code",
<<<<<<< HEAD
   "execution_count": 44,
   "metadata": {
    "collapsed": true
   },
=======
   "execution_count": 30,
   "metadata": {},
>>>>>>> 7c0fc8192d32ef3ff7fded33149d01ba29cfe90d
   "outputs": [],
   "source": [
    "primary_key_mapper, inverse_primary_key_mapper = primary_key_map(entity_list) #getting key mappers\n",
    "edge_list = relationships_to_edge_list(relationship_list, primary_key_mapper) #generating edge list\n",
    "starting_time, ending_time = time_span(entity_list) #getting starting and ending times \n",
    "n_day_duration = (ending_time - starting_time).days #getting duration as days "
   ]
  },
  {
   "cell_type": "code",
<<<<<<< HEAD
   "execution_count": 45,
   "metadata": {},
   "outputs": [
    {
     "ename": "NameError",
     "evalue": "name 'ig' is not defined",
     "output_type": "error",
     "traceback": [
      "\u001b[0;31m---------------------------------------------------------------------------\u001b[0m",
      "\u001b[0;31mNameError\u001b[0m                                 Traceback (most recent call last)",
      "\u001b[0;32m<ipython-input-45-cc2cab06d866>\u001b[0m in \u001b[0;36m<module>\u001b[0;34m()\u001b[0m\n\u001b[0;32m----> 1\u001b[0;31m \u001b[0mentity_xy_coords\u001b[0m \u001b[0;34m=\u001b[0m \u001b[0mnp\u001b[0m\u001b[0;34m.\u001b[0m\u001b[0marray\u001b[0m\u001b[0;34m(\u001b[0m\u001b[0mig\u001b[0m\u001b[0;34m.\u001b[0m\u001b[0mGraph\u001b[0m\u001b[0;34m(\u001b[0m\u001b[0medge_list\u001b[0m\u001b[0;34m)\u001b[0m\u001b[0;34m.\u001b[0m\u001b[0mlayout\u001b[0m\u001b[0;34m(\u001b[0m\u001b[0;34m'kk'\u001b[0m\u001b[0;34m)\u001b[0m\u001b[0;34m)\u001b[0m \u001b[0;31m# getting 2d coordiantes of entities\u001b[0m\u001b[0;34m\u001b[0m\u001b[0m\n\u001b[0m\u001b[1;32m      2\u001b[0m \u001b[0mmodel_height\u001b[0m \u001b[0;34m=\u001b[0m \u001b[0mnp\u001b[0m\u001b[0;34m.\u001b[0m\u001b[0mptp\u001b[0m\u001b[0;34m(\u001b[0m\u001b[0mentity_xy_coords\u001b[0m\u001b[0;34m,\u001b[0m \u001b[0maxis\u001b[0m \u001b[0;34m=\u001b[0m \u001b[0;36m0\u001b[0m\u001b[0;34m)\u001b[0m\u001b[0;34m.\u001b[0m\u001b[0mmax\u001b[0m\u001b[0;34m(\u001b[0m\u001b[0;34m)\u001b[0m\u001b[0;34m.\u001b[0m\u001b[0mround\u001b[0m\u001b[0;34m(\u001b[0m\u001b[0;34m)\u001b[0m \u001b[0;31m# getting a good model height\u001b[0m\u001b[0;34m\u001b[0m\u001b[0m\n",
      "\u001b[0;31mNameError\u001b[0m: name 'ig' is not defined"
     ]
    }
   ],
=======
   "execution_count": 31,
   "metadata": {},
   "outputs": [],
>>>>>>> 7c0fc8192d32ef3ff7fded33149d01ba29cfe90d
   "source": [
    "entity_xy_coords = np.array(ig.Graph(edge_list).layout('kk')) # getting 2d coordiantes of entities\n",
    "model_height = np.ptp(entity_xy_coords, axis = 0).max().round() # getting a good model height"
   ]
  },
  {
   "cell_type": "code",
<<<<<<< HEAD
   "execution_count": null,
   "metadata": {
    "collapsed": true
   },
=======
   "execution_count": 32,
   "metadata": {},
>>>>>>> 7c0fc8192d32ef3ff7fded33149d01ba29cfe90d
   "outputs": [],
   "source": [
    "# setting the geometry of each entity\n",
    "for index, coord in enumerate(entity_xy_coords):\n",
    "    entity_primary_key = inverse_primary_key_mapper[index]\n",
    "    entity = get_entity[entity_primary_key]\n",
    "    entity.x = coord[0]\n",
    "    entity.y = coord[1]\n",
    "    entity.z1 = (entity.starting_date - starting_time).days/n_day_duration * model_height\n",
    "    entity.z2 = (entity.ending_date - starting_time).days/n_day_duration * model_height"
   ]
  },
  {
   "cell_type": "code",
<<<<<<< HEAD
   "execution_count": null,
   "metadata": {
    "collapsed": true
   },
=======
   "execution_count": 33,
   "metadata": {},
>>>>>>> 7c0fc8192d32ef3ff7fded33149d01ba29cfe90d
   "outputs": [],
   "source": [
    "# setting the geometry of each relationship\n",
    "for relationship in relationship_list:\n",
    "    entity_1 = get_entity[relationship.entity_key_1]\n",
    "    entity_2 = get_entity[relationship.entity_key_2]\n",
    "    \n",
    "    relationship.x1 = entity_1.x\n",
    "    relationship.y1 = entity_1.y\n",
    "    \n",
    "    relationship.x2 = entity_1.x\n",
    "    relationship.y2 = entity_1.y\n",
    "    \n",
    "    relationship.x3 = entity_2.x\n",
    "    relationship.y3 = entity_2.y\n",
    "    \n",
    "    relationship.x4 = entity_2.x\n",
    "    relationship.y4 = entity_2.y\n",
    "    \n",
    "    \n",
    "    if relationship.starting_date is None and relationship.ending_date is None: # if relationship exists during full life of both entities\n",
    "        relationship.z1 = min(entity_1.z1, entity_2.z1)\n",
    "        relationship.z3 = relationship.z1\n",
    "\n",
    "        relationship.z2 = entity_1.z2\n",
    "        relationship.z4 = enitty_2.z2\n",
    "        \n",
    "    else:\n",
    "        bottom_z = (relationship.starting_date - starting_time).days/n_day_duration * model_height\n",
    "        top_z = (relationship.ending_date - starting_time).days/n_day_duration * model_height\n",
    "        \n",
    "        relationship.z1 = bottom_z\n",
    "        relationship.z3 = bottom_z\n",
    "        \n",
    "        relationship.z2 = top_z\n",
    "        relationship.z4 = top_z"
   ]
  },
  {
   "cell_type": "code",
   "execution_count": 34,
   "metadata": {},
   "outputs": [],
   "source": [
    "def write_entities(entity_list, csv_name):\n",
    "    with open(csv_name + '.csv', mode = 'w') as entity_file:\n",
    "        entity_writer = csv.writer(entity_file)\n",
    "        entity_writer.writerow(['primary_key','name','starting_date','ending_date','x','y','z1','z2'])\n",
    "        for entity in entity_list:\n",
    "            entity_writer.writerow(entity.get_string_representation())"
   ]
  },
  {
   "cell_type": "code",
   "execution_count": 35,
   "metadata": {},
   "outputs": [],
   "source": [
    "def write_relationships(relationship_list, csv_name):\n",
    "    with open(csv_name + '.csv', mode = 'w') as relationship_file:\n",
    "        relationship_writer = csv.writer(relationship_file)\n",
    "        relationship_writer.writerow(['primary_key',\n",
    "                                      'entity_key_1',\n",
    "                                      'entity_key_2',\n",
    "                                      'relationship_type',\n",
    "                                      'starting_date',\n",
    "                                      'ending_date',\n",
    "                                      'x1',\n",
    "                                      'y1',\n",
    "                                      'z1',\n",
    "                                      'x2',\n",
    "                                      'y2',\n",
    "                                      'z2',\n",
    "                                      'x3',\n",
    "                                      'y3',\n",
    "                                      'z3',\n",
    "                                      'x4',\n",
    "                                      'y4',\n",
    "                                      'z4'])\n",
    "\n",
    "        for relationship in relationship_list:\n",
    "            relationship_writer.writerow(relationship.get_string_representation())"
   ]
  },
  {
   "cell_type": "code",
   "execution_count": 36,
   "metadata": {},
   "outputs": [],
   "source": [
    "write_entities(entity_list, 'data/cameron_person_test')\n",
    "write_relationships(relationship_list, 'data/cameron_relationship_test')"
   ]
  },
  {
   "cell_type": "code",
   "execution_count": null,
   "metadata": {
    "collapsed": true
   },
   "outputs": [],
   "source": [
    "def write_entities(entity_list, csv_name):\n",
    "    with open(csv_name + '.csv', mode = 'w') as entity_file:\n",
    "        entity_writer = csv.writer(entity_file)\n",
    "        entity_writer.writerow(['primary_key','name','starting_date','ending_date','x','y','z1','z2'])\n",
    "        for entity in entity_list:\n",
    "            entity_writer.writerow(entity.get_string_representation())"
   ]
  },
  {
   "cell_type": "code",
   "execution_count": null,
   "metadata": {
    "collapsed": true
   },
   "outputs": [],
   "source": [
    "def write_relationships(relationship_list, csv_name):\n",
    "    with open(csv_name + '.csv', mode = 'w') as relationship_file:\n",
    "        relationship_writer = csv.writer(relationship_file)\n",
    "        relationship_writer.writerow(['primary_key',\n",
    "                                      'entity_key_1',\n",
    "                                      'entity_key_2',\n",
    "                                      'relationship_type',\n",
    "                                      'starting_date',\n",
    "                                      'ending_date',\n",
    "                                      'x1',\n",
    "                                      'y1',\n",
    "                                      'z1',\n",
    "                                      'x2',\n",
    "                                      'y2',\n",
    "                                      'z2',\n",
    "                                      'x3',\n",
    "                                      'y3',\n",
    "                                      'z3',\n",
    "                                      'x4',\n",
    "                                      'y4',\n",
    "                                      'z4'])\n",
    "\n",
    "        for relationship in relationship_list:\n",
    "            relationship_writer.writerow(relationship.get_string_representation())"
   ]
  },
  {
   "cell_type": "code",
   "execution_count": null,
   "metadata": {
    "collapsed": true
   },
   "outputs": [],
   "source": [
    "write_entities(entity_list, 'mock_entity_output')\n",
    "write_relationships(relationship_list, 'mock_relationship_output')"
   ]
  },
  {
   "cell_type": "code",
   "execution_count": null,
   "metadata": {
    "collapsed": true
   },
   "outputs": [],
   "source": []
  }
 ],
 "metadata": {
  "kernelspec": {
   "display_name": "Python 3",
   "language": "python",
   "name": "python3"
  },
  "language_info": {
   "codemirror_mode": {
    "name": "ipython",
    "version": 3
   },
   "file_extension": ".py",
   "mimetype": "text/x-python",
   "name": "python",
   "nbconvert_exporter": "python",
   "pygments_lexer": "ipython3",
   "version": "3.6.6"
  }
 },
 "nbformat": 4,
 "nbformat_minor": 2
}
